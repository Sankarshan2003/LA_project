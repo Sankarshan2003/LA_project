{
  "nbformat": 4,
  "nbformat_minor": 0,
  "metadata": {
    "colab": {
      "provenance": [],
      "authorship_tag": "ABX9TyPkHscIwR2dN3eMjzL6NyGU",
      "include_colab_link": true
    },
    "kernelspec": {
      "name": "python3",
      "display_name": "Python 3"
    },
    "language_info": {
      "name": "python"
    }
  },
  "cells": [
    {
      "cell_type": "markdown",
      "metadata": {
        "id": "view-in-github",
        "colab_type": "text"
      },
      "source": [
        "<a href=\"https://colab.research.google.com/github/Sankarshan2003/LA_project/blob/main/LA.ipynb\" target=\"_parent\"><img src=\"https://colab.research.google.com/assets/colab-badge.svg\" alt=\"Open In Colab\"/></a>"
      ]
    },
    {
      "cell_type": "code",
      "execution_count": 14,
      "metadata": {
        "id": "KxHDkF9G-cTZ"
      },
      "outputs": [],
      "source": [
        "import numpy as np\n",
        "from numpy import linalg as LA\n",
        "from sympy import *\n",
        "import cmath"
      ]
    },
    {
      "cell_type": "code",
      "source": [
        "def isStable(eval):\n",
        "  for i in eval:\n",
        "    if(i.real>0):\n",
        "      return False\n",
        "  return True"
      ],
      "metadata": {
        "id": "seOOnR93W6aK"
      },
      "execution_count": 17,
      "outputs": []
    },
    {
      "cell_type": "code",
      "source": [
        "#Storing R,L, C values\n",
        "r = float(input(\"Enter value of R\"))\n",
        "l = float(input(\"Enter the value of L\"))\n",
        "c= float(input(\"Enter the value of C\"))\n",
        "a = [[(-r/l),(-1/l)],[1/c,0]]\n",
        "A = np.array(a)"
      ],
      "metadata": {
        "id": "9H2tZxDRB99c"
      },
      "execution_count": null,
      "outputs": []
    },
    {
      "cell_type": "code",
      "source": [
        "#Finding eigen values and eigen vectors\n",
        "eval,evec = LA.eig(A)\n",
        "print(eval)\n",
        "print(eval)"
      ],
      "metadata": {
        "colab": {
          "base_uri": "https://localhost:8080/"
        },
        "id": "YvtNfmjkLQRs",
        "outputId": "cdce2683-636f-4743-a40a-0ba333f046ff"
      },
      "execution_count": 13,
      "outputs": [
        {
          "output_type": "stream",
          "name": "stdout",
          "text": [
            "[-0.35714286+0.22587698j -0.35714286-0.22587698j]\n",
            "[-0.35714286+0.22587698j -0.35714286-0.22587698j]\n"
          ]
        }
      ]
    },
    {
      "cell_type": "code",
      "source": [
        "#finding charecterstic equation\n",
        "lambd = symbols('lambda')\n",
        "M= Matrix(A)\n",
        "chareq = M.charpoly(lambd)\n",
        "print(chareq)"
      ],
      "metadata": {
        "colab": {
          "base_uri": "https://localhost:8080/"
        },
        "id": "2MeRP6TxLxwn",
        "outputId": "81753068-6d21-40ee-ab64-e9016fed6491"
      },
      "execution_count": 11,
      "outputs": [
        {
          "output_type": "stream",
          "name": "stdout",
          "text": [
            "PurePoly(1.0*lambda**2 + 0.714285714285714*lambda + 0.178571428571429, lambda, domain='RR')\n"
          ]
        }
      ]
    },
    {
      "cell_type": "code",
      "source": [
        "#finding stability\n",
        "print(isStable(eval))"
      ],
      "metadata": {
        "colab": {
          "base_uri": "https://localhost:8080/"
        },
        "id": "aGX2t55eSVJ0",
        "outputId": "fd3ecd1b-7744-431f-d138-b86562e7f05e"
      },
      "execution_count": 18,
      "outputs": [
        {
          "output_type": "stream",
          "name": "stdout",
          "text": [
            "True\n"
          ]
        }
      ]
    }
  ]
}